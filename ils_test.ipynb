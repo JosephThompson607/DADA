{
 "cells": [
  {
   "cell_type": "code",
   "execution_count": null,
   "id": "e58092dc",
   "metadata": {},
   "outputs": [],
   "source": [
    "import ILS_ALBP as ils\n",
    "import sys\n",
    "sys.path.append(\"src\")\n",
    "from SALBP_solve import *\n",
    "from alb_instance_compressor import *\n",
    "import time"
   ]
  },
  {
   "cell_type": "code",
   "execution_count": null,
   "id": "bf1c6699",
   "metadata": {},
   "outputs": [],
   "source": [
    "ils.PrecedenceRelation()"
   ]
  },
  {
   "cell_type": "code",
   "execution_count": null,
   "id": "cf6e0039",
   "metadata": {},
   "outputs": [],
   "source": [
    "# Replace 'your_module' with the actual module name\n",
    "\n",
    "def solve_salbp1_example():\n",
    "    \"\"\"\n",
    "    Example function that calls ils_solve_SALBP1 to solve an assembly line balancing problem\n",
    "    \"\"\"\n",
    "    \n",
    "    # Example problem parameters\n",
    "    C = 10  # Cycle time\n",
    "    N = 6   # Number of tasks\n",
    "    \n",
    "    # Task processing times (one for each task)\n",
    "    task_times = [3, 4, 2, 5, 3, 4]\n",
    "    \n",
    "    # Precedence relationships - each inner list represents [predecessor, successor]\n",
    "    # For example: [[0, 1], [1, 2]] means task 0 must come before task 1, \n",
    "    # and task 1 must come before task 2\n",
    "    raw_precedence = [\n",
    "        [1, 2],  # Task 0 precedes task 1\n",
    "        [1, 3],  # Task 0 precedes task 2\n",
    "        [2, 4],  # Task 1 precedes task 3\n",
    "        [3, 5],  # Task 2 precedes task 4\n",
    "        [4, 6],  # Task 3 precedes task 5\n",
    "        [5, 6]   # Task 4 precedes task 5\n",
    "    ]\n",
    "    \n",
    "    # Algorithm parameters\n",
    "    max_iter = 1000      # Maximum iterations for the ILS algorithm\n",
    "    op_probs = 0.5       # Operation probabilities\n",
    "    verbose = True       # Enable verbose output\n",
    "    \n",
    "    # Optional: provide an initial solution (empty list means no initial solution)\n",
    "    initial_solution = []  # Let the algorithm find its own starting point\n",
    "    # Alternative: provide a specific initial solution\n",
    "    # initial_solution = [0, 0, 1, 1, 2, 2]  # Task assignments to workstations\n",
    "    \n",
    "    try:\n",
    "        # Call the ILS solver\n",
    "        solution = ils.ils_solve_SALBP1(\n",
    "            C=C,\n",
    "            N=N,\n",
    "            task_times=task_times,\n",
    "            raw_precedence=raw_precedence,\n",
    "            max_iter=max_iter,\n",
    "            op_probs=op_probs,\n",
    "            verbose=verbose,\n",
    "            initial_solution=initial_solution\n",
    "        )\n",
    "        \n",
    "        print(\"Solution found successfully!\")\n",
    "        return solution\n",
    "        \n",
    "    except Exception as e:\n",
    "        print(f\"Error solving SALBP1: {e}\")\n",
    "        return None\n",
    "\n",
    "\n",
    "        \n",
    "    except Exception as e:\n",
    "        print(f\"Failed to solve SALBP1: {e}\")\n",
    "        return None\n",
    "\n",
    "# Example usage\n",
    "if __name__ == \"__main__\":\n",
    "    # Run the example\n",
    "    print(\"=== SALBP1 ILS Solver Example ===\")\n",
    "    result = solve_salbp1_example()\n",
    "    \n",
    "    if result:\n",
    "        print(\"Solution object:\", result)\n",
    "        # You can access solution attributes here depending on the ALBPSolution class structure\n",
    "        # For example: print(\"Number of workstations:\", result.num_stations)\n",
    "    \n",
    "    print(\"\\n=== Custom Problem Example ===\")\n",
    "    # Custom problem example\n",
    "    custom_result = solve_salbp1_custom(\n",
    "        cycle_time=15,\n",
    "        tasks_times_list=[4, 6, 3, 8, 5, 7, 2],\n",
    "        precedence_list=[[1, 2], [2, 3], [3, 4], [1, 5], [5, 6], [6, 7]],\n",
    "        max_iterations=500,\n",
    "        operation_probs=0.3,\n",
    "        show_verbose=True\n",
    "    )\n",
    "    print(custom_result.n_stations)\n",
    "    print(custom_result.task_assignment)\n",
    "    print(custom_result.station_assignments)\n",
    "    if custom_result:\n",
    "        print(\"Custom solution found!\")"
   ]
  },
  {
   "cell_type": "code",
   "execution_count": null,
   "id": "f18cdebc",
   "metadata": {},
   "outputs": [],
   "source": [
    "my_pickles = open_salbp_pickle(\"/Users/letshopethisworks2/Documents/phd_paper_material/SALBP_new_instances/testn_60_unstructured.pkl\")"
   ]
  },
  {
   "cell_type": "code",
   "execution_count": null,
   "id": "b2ecc9a1",
   "metadata": {},
   "outputs": [],
   "source": [
    "my_pickles[0]"
   ]
  },
  {
   "cell_type": "code",
   "execution_count": null,
   "id": "ccad78a0",
   "metadata": {},
   "outputs": [],
   "source": [
    "my_pickles[0].keys()"
   ]
  },
  {
   "cell_type": "code",
   "execution_count": null,
   "id": "676f0ceb",
   "metadata": {},
   "outputs": [],
   "source": []
  },
  {
   "cell_type": "code",
   "execution_count": null,
   "id": "5d0b2f06",
   "metadata": {},
   "outputs": [],
   "source": [
    "type(precs[0][0])"
   ]
  },
  {
   "cell_type": "code",
   "execution_count": null,
   "id": "cae7ca96",
   "metadata": {},
   "outputs": [],
   "source": [
    "def use_ils_on_albs(albs_folder):\n",
    "    alb_instances = get_instance_list(albs_folder)\n",
    "    res_list = []\n",
    "    for inst in alb_instances:\n",
    "        instance_name = inst.split(\"/\")[-1]\n",
    "        alb = parse_alb(inst)\n",
    "        C = my_pickles[0]['cycle_time']\n",
    "        precs = my_pickles[0]['precedence_relations']\n",
    "        t_times = [val for _, val in my_pickles[0]['task_times'].items()]\n",
    "        precs = [[int(child), int(parent)]  for child, parent in my_pickles[0]['precedence_relations']]\n",
    "        start  = time.time()\n",
    "        results = ils_call(cycle_time=C, tasks_times_list= t_times, precedence_list=precs)\n",
    "        end = start- time.time()\n",
    "        res_list.append({\n",
    "            \"instance\":instance_name,\n",
    "            \"n_stations\": results.n_stations,\n",
    "            \"run_time\": end\n",
    "\n",
    "\n",
    "        })\n",
    "    return res_list\n",
    "res_list = use_ils_on_albs(albs_folder =\"/Users/letshopethisworks2/Documents/phd_paper_material/MMABPWW/SALBP_benchmark/medium data set_n=50\" )\n",
    "res_list"
   ]
  },
  {
   "cell_type": "code",
   "execution_count": null,
   "id": "69ce040b",
   "metadata": {},
   "outputs": [],
   "source": [
    "res_list"
   ]
  },
  {
   "cell_type": "code",
   "execution_count": null,
   "id": "87246e88",
   "metadata": {},
   "outputs": [],
   "source": []
  }
 ],
 "metadata": {
  "kernelspec": {
   "display_name": "base",
   "language": "python",
   "name": "python3"
  },
  "language_info": {
   "codemirror_mode": {
    "name": "ipython",
    "version": 3
   },
   "file_extension": ".py",
   "mimetype": "text/x-python",
   "name": "python",
   "nbconvert_exporter": "python",
   "pygments_lexer": "ipython3",
   "version": "3.13.2"
  }
 },
 "nbformat": 4,
 "nbformat_minor": 5
}
